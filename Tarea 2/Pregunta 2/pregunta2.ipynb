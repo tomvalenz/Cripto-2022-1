{
 "cells": [
  {
   "cell_type": "code",
   "execution_count": 2,
   "id": "193663ce",
   "metadata": {},
   "outputs": [],
   "source": [
    "class RSAReceiver :\n",
    "    def __init__(self, bit_len: int):\n",
    "        \"\"\"\n",
    "        Arguments :\n",
    "        bit_len : A lower bound for the number of bits of N,\n",
    "        the second argument of the public and secret key .\n",
    "        \"\"\"\n",
    "        self.largo = bit_len\n",
    "\n",
    "    def get_public_key(self) -> bytearray:\n",
    "        \"\"\"\n",
    "        Returns :\n",
    "        public_key : Public key expressed as a Python ’bytearray ’ using the\n",
    "        PEM format . This means the public key is divided in:\n",
    "        (1) The number of bytes of e (4 bytes )\n",
    "        (2) the number e (as many bytes as indicated in (1))\n",
    "        (3) The number of bytes of N (4 bytes )\n",
    "        (4) the number N (as many bytes as indicated in (3))\n",
    "        \"\"\"\n",
    "    def decrypt(self, ciphertext: bytearray) -> str:\n",
    "        \"\"\"\n",
    "        Arguments :\n",
    "        ciphertext : The ciphertext to decrypt\n",
    "        Returns :\n",
    "        message : The original message\n",
    "        \"\"\""
   ]
  },
  {
   "cell_type": "code",
   "execution_count": 3,
   "id": "0cd80b93",
   "metadata": {},
   "outputs": [],
   "source": [
    "class RSASender:\n",
    "    def __init__(self, public_key: bytearray):\n",
    "        \"\"\"\n",
    "        Arguments :\n",
    "        public_key : The public key that will be used to encrypt messages\n",
    "        \"\"\"\n",
    "        self.public_key = public_key\n",
    "    \n",
    "    def encrypt(self, message: str) -> bytearray :\n",
    "        \"\"\"\n",
    "        Arguments :\n",
    "        message : The plaintext message to encrypt\n",
    "        Returns :\n",
    "        ciphertext : The encrypted message\n",
    "        \"\"\"\n"
   ]
  },
  {
   "cell_type": "code",
   "execution_count": null,
   "id": "cf1f9fb7",
   "metadata": {},
   "outputs": [],
   "source": []
  }
 ],
 "metadata": {
  "kernelspec": {
   "display_name": "Python 3 (ipykernel)",
   "language": "python",
   "name": "python3"
  },
  "language_info": {
   "codemirror_mode": {
    "name": "ipython",
    "version": 3
   },
   "file_extension": ".py",
   "mimetype": "text/x-python",
   "name": "python",
   "nbconvert_exporter": "python",
   "pygments_lexer": "ipython3",
   "version": "3.9.12"
  }
 },
 "nbformat": 4,
 "nbformat_minor": 5
}
