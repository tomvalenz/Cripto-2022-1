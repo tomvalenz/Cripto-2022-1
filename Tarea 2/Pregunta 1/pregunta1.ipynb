{
 "cells": [
  {
   "cell_type": "markdown",
   "id": "59d69056",
   "metadata": {},
   "source": [
    "### Pregunta 1\n",
    "En la solución de esta pregunta me basé en los algoritmos vistos en las clases de hash criptográfico, para esto hago 3 funciones, __davies_meyer__ la cual genera una función de compresión, __pad__ la cual le agrega un *padding* a un mensaje para que calce con el largo del bloque, y __merkle_damgard__ la cual genera una función de hash basada en las dos funciones anteriores."
   ]
  },
  {
   "cell_type": "code",
   "execution_count": null,
   "id": "4b71a3f7",
   "metadata": {},
   "outputs": [],
   "source": [
    "def davies_meyer(encrypt, l_key: int , l_message: int):\n",
    "    \"\"\"\n",
    "    Arguments :\n",
    "    encrypt : an encryption function\n",
    "    l_key : length in bytes of the keys for encrypt\n",
    "    l_message : length in bytes of the messages for encrypt\n",
    "    Returns :\n",
    "    A compression function from messages of length l_key + l_message to\n",
    "    messages of length l_message , defined by using the Davies - Meyer\n",
    "    construction\n",
    "    \"\"\"\n",
    "    def compress(message):\n",
    "        part1 = message[:l_key] # parte del input para usar de llave\n",
    "        part2 = message[len(message)-l_message:] # parte del input para usar de mensaje\n",
    "        enc = encrypt(part1, part2)\n",
    "        return bytearray([a ^ b for a, b in zip(enc, part2)]) # se hace un XOR uno a uno entre el mensaje encriptado y part2\n",
    "    return compress"
   ]
  },
  {
   "cell_type": "code",
   "execution_count": null,
   "id": "65127ce6",
   "metadata": {},
   "outputs": [],
   "source": [
    "def pad(message: bytearray, l_block: int) -> bytearray:\n",
    "    \"\"\"\n",
    "    Arguments :\n",
    "    message : message to be padded\n",
    "    l_block : length in bytes of the block\n",
    "    Returns :\n",
    "    extension of message that includes the length of message\n",
    "    (in bytes ) in its last block\n",
    "    \"\"\"\n",
    "    largo_original = len(message) # largo original para después ponerlo en el bloque final\n",
    "    if len(message) % l_block != 0: # si el largo del mensaje no es divisible por el largo del bloque, se deben agregar un 1 y ceros para que se vuelva divisible\n",
    "        ceros = l_block - (len(message) % l_block) - 1\n",
    "        message = message + bytearray([1]) + bytearray(ceros)\n",
    "    \n",
    "    message = message + (largo_original % 2**l_block).to_bytes(l_block, \"big\") # se agrega un bloque al final con el largo del mensaje original.\n",
    "    return message"
   ]
  },
  {
   "cell_type": "code",
   "execution_count": null,
   "id": "707806d8",
   "metadata": {},
   "outputs": [],
   "source": [
    "def merkle_damgard(IV: bytearray, comp, l_block: int):\n",
    "    \"\"\"\n",
    "    Arguments :\n",
    "    IV: initialization vector for a hash function\n",
    "    comp : compression function to be used in the Merkle - Damgard\n",
    "    construction\n",
    "    l_block : length in bytes of the blocks to be used in the Merkle - Damgard\n",
    "    construction\n",
    "    Returns :\n",
    "    A hash function for messages of arbitrary length , defined by using\n",
    "    the Merkle - Damgard construction\n",
    "    \"\"\"\n",
    "    def hash_making(message):\n",
    "        cont = 0\n",
    "        message = pad(message, l_block) # se le agrega el padding al mensaje original\n",
    "        while cont < len(message):\n",
    "            chunk = message[cont:cont+l_block] # parte del mensaje de tamaño del largo del bloque\n",
    "            if cont == 0:\n",
    "                hashed = comp(chunk + IV) # primer paso donde se usa H0 para la función de compresión.\n",
    "            else:\n",
    "                hashed = comp(chunk + hashed) # se comprime el bloque usando como Hn el resultado de hash del paso anterior\n",
    "            \n",
    "            cont += l_block\n",
    "        \n",
    "        return hashed      \n",
    "            \n",
    "    return hash_making\n",
    "        "
   ]
  },
  {
   "cell_type": "code",
   "execution_count": null,
   "id": "814d6410",
   "metadata": {},
   "outputs": [],
   "source": []
  }
 ],
 "metadata": {
  "kernelspec": {
   "display_name": "Python 3 (ipykernel)",
   "language": "python",
   "name": "python3"
  },
  "language_info": {
   "codemirror_mode": {
    "name": "ipython",
    "version": 3
   },
   "file_extension": ".py",
   "mimetype": "text/x-python",
   "name": "python",
   "nbconvert_exporter": "python",
   "pygments_lexer": "ipython3",
   "version": "3.9.12"
  }
 },
 "nbformat": 4,
 "nbformat_minor": 5
}
