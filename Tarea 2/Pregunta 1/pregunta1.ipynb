{
 "cells": [
  {
   "cell_type": "code",
   "execution_count": 159,
   "id": "4b71a3f7",
   "metadata": {},
   "outputs": [],
   "source": [
    "def davies_meyer(encrypt, l_key: int , l_message: int):\n",
    "    \"\"\"\n",
    "    Arguments :\n",
    "    encrypt : an encryption function\n",
    "    l_key : length in bytes of the keys for encrypt\n",
    "    l_message : length in bytes of the messages for encrypt\n",
    "    Returns :\n",
    "    A compression function from messages of length l_key + l_message to\n",
    "    messages of length l_message , defined by using the Davies - Meyer\n",
    "    construction\n",
    "    \"\"\"\n",
    "    def compress(message):\n",
    "        part1 = message[:l_key]\n",
    "        part2 = message[len(message)-l_message:]\n",
    "        enc = encrypt(part1, part2)\n",
    "        return bytearray([a ^ b for a, b in zip(enc, part2)])\n",
    "    return compress"
   ]
  },
  {
   "cell_type": "code",
   "execution_count": 160,
   "id": "65127ce6",
   "metadata": {},
   "outputs": [],
   "source": [
    "def pad(message: bytearray, l_block: int) -> bytearray:\n",
    "    \"\"\"\n",
    "    Arguments :\n",
    "    message : message to be padded\n",
    "    l_block : length in bytes of the block\n",
    "    Returns :\n",
    "    extension of message that includes the length of message\n",
    "    (in bytes ) in its last block\n",
    "    \"\"\"\n",
    "    largo_original = len(message)\n",
    "    if len(message) % l_block != 0 or len(message) == 0:\n",
    "        ceros = l_block - (len(message) % l_block) - 1\n",
    "        message = message + bytearray([1]) + bytearray(ceros)\n",
    "    \n",
    "    message = message + (largo_original % 2**l_block).to_bytes(l_block, \"big\")\n",
    "    return message"
   ]
  },
  {
   "cell_type": "code",
   "execution_count": 161,
   "id": "707806d8",
   "metadata": {},
   "outputs": [],
   "source": [
    "def merkle_damgard(IV: bytearray, comp, l_block: int):\n",
    "    \"\"\"\n",
    "    Arguments :\n",
    "    IV: initialization vector for a hash function\n",
    "    comp : compression function to be used in the Merkle - Damgard\n",
    "    construction\n",
    "    l_block : length in bytes of the blocks to be used in the Merkle - Damgard\n",
    "    construction\n",
    "    Returns :\n",
    "    A hash function for messages of arbitrary length , defined by using\n",
    "    the Merkle - Damgard construction\n",
    "    \"\"\"\n",
    "    def hash_making(message):\n",
    "        cont = 0\n",
    "        message = pad(message, l_block)\n",
    "        while cont < len(message):\n",
    "            chunk = message[cont:cont+l_block]\n",
    "            if cont == 0:\n",
    "                hashed = comp(chunk + IV)\n",
    "            else:\n",
    "                hashed = comp(chunk + hashed)\n",
    "            \n",
    "            cont += l_block\n",
    "        \n",
    "        return hashed      \n",
    "            \n",
    "    return hash_making\n",
    "        "
   ]
  },
  {
   "cell_type": "code",
   "execution_count": 162,
   "id": "c2e03a62",
   "metadata": {},
   "outputs": [],
   "source": [
    "from Crypto.Cipher import AES\n",
    "\n",
    "def AES_128(key: bytearray, message: bytearray) -> bytearray:\n",
    "    a = AES.new(key, AES.MODE_ECB)\n",
    "    return bytearray(a.encrypt(message))"
   ]
  },
  {
   "cell_type": "code",
   "execution_count": 163,
   "id": "a386a9bb",
   "metadata": {},
   "outputs": [],
   "source": [
    "compresion = davies_meyer(AES_128, 16, 16)"
   ]
  },
  {
   "cell_type": "code",
   "execution_count": 165,
   "id": "c07b53b0",
   "metadata": {},
   "outputs": [
    {
     "name": "stdout",
     "output_type": "stream",
     "text": [
      "bytearray(b'\\xe9\\xe8\\xac\\x12\\\\\\xf2\\xc8\\x16\\xceOV\\xc5Y.T\\xea')\n",
      "bytearray(b'\\xb6\\xfb\\xc6a\\x12\\xae\\x95\\x1f\\xda\\xc5\\x13\\xde\\x06|Q\\x96')\n",
      "bytearray(b'\\xc5\\xec\\xcdd\\xa4(R*\\xf0L*QtL\\xda\\x81')\n",
      "bytearray(b'F\\x9byvI\\x974F\\xdc\\xf9ap\\xfb\\xa3\\xf7\\x98')\n"
     ]
    }
   ],
   "source": [
    "hash = merkle_damgard(bytearray(b'1234567890123456'), compresion, 16)\n",
    "\n",
    "s1 = bytearray(b'Este es un mensaje de prueba para la tarea 2')\n",
    "s2 = bytearray(b'Este es un mensaje de Prueba para la tarea 2')\n",
    "s3 = bytearray(b'Un mensaje corto')\n",
    "s4 = bytearray(b'')\n",
    "\n",
    "h1 = hash(s1)\n",
    "h2 = hash(s2)\n",
    "h3 = hash(s3)\n",
    "h4 = hash(s4)\n",
    "\n",
    "print(h1)\n",
    "print(h2)\n",
    "print(h3)\n",
    "print(h4)"
   ]
  },
  {
   "cell_type": "code",
   "execution_count": 158,
   "id": "35edebaf",
   "metadata": {},
   "outputs": [
    {
     "name": "stdout",
     "output_type": "stream",
     "text": [
      "bytearray(b' 2')\n"
     ]
    }
   ],
   "source": [
    "a = bytearray(b'12')\n",
    "b = bytearray(b'\\x11\\x00')\n",
    "print(bytearray([a ^ b for a, b in zip(a, b)]))"
   ]
  },
  {
   "cell_type": "code",
   "execution_count": 143,
   "id": "c7632641",
   "metadata": {},
   "outputs": [
    {
     "data": {
      "text/plain": [
       "bytearray(b'12')"
      ]
     },
     "execution_count": 143,
     "metadata": {},
     "output_type": "execute_result"
    }
   ],
   "source": [
    "bytearray('12','utf-8')"
   ]
  },
  {
   "cell_type": "code",
   "execution_count": null,
   "id": "b7eb7771",
   "metadata": {},
   "outputs": [],
   "source": []
  }
 ],
 "metadata": {
  "kernelspec": {
   "display_name": "Python 3 (ipykernel)",
   "language": "python",
   "name": "python3"
  },
  "language_info": {
   "codemirror_mode": {
    "name": "ipython",
    "version": 3
   },
   "file_extension": ".py",
   "mimetype": "text/x-python",
   "name": "python",
   "nbconvert_exporter": "python",
   "pygments_lexer": "ipython3",
   "version": "3.9.12"
  }
 },
 "nbformat": 4,
 "nbformat_minor": 5
}
