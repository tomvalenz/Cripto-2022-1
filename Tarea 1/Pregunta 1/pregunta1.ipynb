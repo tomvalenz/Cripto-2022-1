{
 "cells": [
  {
   "cell_type": "markdown",
   "id": "7cd95a0d",
   "metadata": {},
   "source": [
    "### **Pregunta 1**\n",
    "Para la solución de esta pregunta me basé en la solución que se vio en clases que encontraba una llave de un largo específico y lo generalicé para un largo arbitrario y una función de distancia arbitraria. Se usa el mismo concepto de iterar sobre cada caracter de una posible llave pero ahora para todos los posibles largos. Entonces, para elegir la mejor llave se guardan la mejor llave calculada para cada largo y su resultado de la función distancia dada. Después de haber conseguido llaves para todos los posibles largos, se comparan sus distancias y la que tenga menor es elegida como la mejor llave, retornando así ese _string_. "
   ]
  },
  {
   "cell_type": "code",
   "execution_count": null,
   "id": "9b2a660c",
   "metadata": {},
   "outputs": [],
   "source": [
    "def break_rp (ciphertext : str, frequencies : {str: float }, distance) -> str:\n",
    "    \"\"\"\n",
    "    Arguments :\n",
    "    ciphertext : An abritrary string representing the\n",
    "    encrypted version of a plaintext .\n",
    "    frequencies : A dictionary representing a character\n",
    "    frequency over the alphabet .\n",
    "    distance : A function indicating how distant is a string\n",
    "    from following a character frequency\n",
    "    Returns :\n",
    "    key : A guess of the key used to encrypt the ciphertext , assuming\n",
    "    that the plaintext message was written in a language in which\n",
    "    letters distribute according to frequencies .\n",
    "    \"\"\"\n",
    "    alphabet = sorted(frequencies.keys()) # Se define el alfabeto con las llaves de las frecuencias\n",
    "    key_list = [] # Lista de llaves posibles de distintos largos\n",
    "    for key_length in range(1, (len(ciphertext)//50) + 1): # Se hace el supuesto que todos los textos son de largo mayor a 50 caracteres para que este for se pueda ejecutar\n",
    "        probable_key = \"\"\n",
    "        prom_diff = 0\n",
    "        for pos in range(key_length): # Para cada largo de llave posible se asignan los caracteres del texto que fueron encriptados por cada caracter de la llave\n",
    "            to_decrypt = [\n",
    "            ciphertext[i * key_length + pos]\n",
    "            for i in range(len(ciphertext) // key_length)\n",
    "            ]\n",
    "            best_char = \"\"\n",
    "            best_distance = len(alphabet)\n",
    "            for candidate in alphabet: # Se prueban todos los caracteres posibles para ver cuál tiene menor distancia con la frecuencia dada\n",
    "                n_candidate = alphabet.index(candidate)\n",
    "                text = \"\"\n",
    "                for c in to_decrypt:\n",
    "                    n_c = alphabet.index(c)\n",
    "                    n = (n_c - n_candidate) % len(alphabet)\n",
    "                    text += alphabet[n]\n",
    "                diff = distance(text, frequencies)\n",
    "\n",
    "                if diff < best_distance: # Si la distancia es menor que la menor distancia actual se actualiza el caracter de la posible llave y su distancia\n",
    "                    best_char = candidate\n",
    "                    best_distance = diff\n",
    "                    \n",
    "            probable_key += best_char\n",
    "            prom_diff += best_distance\n",
    "        key_list.append((probable_key, prom_diff/key_length)) # Una vez que se tiene la llave del largo correspondiente y su distancia se guardan en una lista de posibles llaves\n",
    "    best_key = \"\"\n",
    "    best_diff = len(ciphertext)\n",
    "    for element in key_list: # Se comparan todas las mejores llaves de todos los largos posibles y se elige la que tiene una menor distancia, retornándola como la mejor llave\n",
    "        if element[1] < best_diff:\n",
    "            best_key = element[0]\n",
    "            best_diff = element[1]\n",
    "    \n",
    "    return best_key"
   ]
  }
 ],
 "metadata": {
  "kernelspec": {
   "display_name": "Python 3 (ipykernel)",
   "language": "python",
   "name": "python3"
  },
  "language_info": {
   "codemirror_mode": {
    "name": "ipython",
    "version": 3
   },
   "file_extension": ".py",
   "mimetype": "text/x-python",
   "name": "python",
   "nbconvert_exporter": "python",
   "pygments_lexer": "ipython3",
   "version": "3.9.12"
  }
 },
 "nbformat": 4,
 "nbformat_minor": 5
}
