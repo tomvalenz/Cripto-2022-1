{
 "cells": [
  {
   "cell_type": "code",
   "execution_count": 5,
   "id": "7f36dcb2",
   "metadata": {},
   "outputs": [],
   "source": [
    "class MerkleTree:\n",
    "    def __init__(self, strings: [str], hash_func):\n",
    "        \"\"\"\n",
    "        Arguments :\n",
    "        strings : The set of strings S\n",
    "        \"\"\"\n",
    "    def get_root(self):\n",
    "        \"\"\"\n",
    "        Returns :\n",
    "        root : Root of the Merkle Tree\n",
    "        \"\"\"\n",
    "    def get_proof_for(self, item: str):\n",
    "        \"\"\"\n",
    "        Returns :\n",
    "        result : None if the item is not part of the leafs of the tree\n",
    "        A list with the necessary info to prove that the\n",
    "        item is part of the leafs of the tree\n",
    "        \"\"\""
   ]
  },
  {
   "cell_type": "code",
   "execution_count": 8,
   "id": "de4595df",
   "metadata": {},
   "outputs": [],
   "source": [
    "def verify (\n",
    "    root,\n",
    "    item,\n",
    "    proof,\n",
    "    hash_func,\n",
    "    ) -> bool :\n",
    "    \"\"\"\n",
    "    Arguments :\n",
    "    root : The root of a merkle tree\n",
    "    item : An abritrary string\n",
    "    proof : An alleged proof that item is part of a Merkle\n",
    "    tree with root root\n",
    "    hash_func : An arbitrary hash function\n",
    "    Returns :\n",
    "    correct : whether the proof is correct or not\n",
    "    \"\"\""
   ]
  },
  {
   "cell_type": "code",
   "execution_count": null,
   "id": "a0836f55",
   "metadata": {},
   "outputs": [],
   "source": []
  }
 ],
 "metadata": {
  "kernelspec": {
   "display_name": "Python 3 (ipykernel)",
   "language": "python",
   "name": "python3"
  },
  "language_info": {
   "codemirror_mode": {
    "name": "ipython",
    "version": 3
   },
   "file_extension": ".py",
   "mimetype": "text/x-python",
   "name": "python",
   "nbconvert_exporter": "python",
   "pygments_lexer": "ipython3",
   "version": "3.9.12"
  }
 },
 "nbformat": 4,
 "nbformat_minor": 5
}
